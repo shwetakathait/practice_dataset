{
  "cells": [
    {
      "cell_type": "markdown",
      "metadata": {
        "id": "view-in-github",
        "colab_type": "text"
      },
      "source": [
        "<a href=\"https://colab.research.google.com/github/shwetakathait/practice_dataset/blob/main/water_potability.ipynb\" target=\"_parent\"><img src=\"https://colab.research.google.com/assets/colab-badge.svg\" alt=\"Open In Colab\"/></a>"
      ]
    },
    {
      "cell_type": "code",
      "execution_count": null,
      "id": "f1eab9d8",
      "metadata": {
        "id": "f1eab9d8"
      },
      "outputs": [],
      "source": [
        "# 1.0 Call libraries\n",
        "\n",
        "import numpy as np\n",
        "import pandas as pd\n",
        "import os\n",
        "\n",
        "# 1.1 Call sklearn libraries\n",
        "\n",
        "# 1.1.1 Split data into train and test data\n",
        "from sklearn.model_selection import train_test_split\n",
        "\n",
        "# 1.1.2 PReprocessong:\n",
        "from sklearn.preprocessing import StandardScaler\n",
        "from sklearn.impute import SimpleImputer\n",
        "\n",
        "# 1.1.3 Import class DecisionTreeClassifier\n",
        "from sklearn.tree import DecisionTreeClassifier as dtree\n",
        "\n",
        "# 1.1.4 To draw decision tree\n",
        "#from sklearn.tree import export_graphviz\n",
        "\n",
        "# 1.1.6\n",
        "from sklearn.tree import plot_tree\n",
        "import matplotlib.pyplot as plt\n",
        "\n",
        "# 1.1.7\n",
        "from sklearn.datasets import make_classification"
      ]
    },
    {
      "cell_type": "code",
      "execution_count": null,
      "id": "964ba1d3",
      "metadata": {
        "id": "964ba1d3",
        "outputId": "3423e5a9-584c-4386-800f-f3417d56a28a"
      },
      "outputs": [
        {
          "data": {
            "text/html": [
              "<div>\n",
              "<style scoped>\n",
              "    .dataframe tbody tr th:only-of-type {\n",
              "        vertical-align: middle;\n",
              "    }\n",
              "\n",
              "    .dataframe tbody tr th {\n",
              "        vertical-align: top;\n",
              "    }\n",
              "\n",
              "    .dataframe thead th {\n",
              "        text-align: right;\n",
              "    }\n",
              "</style>\n",
              "<table border=\"1\" class=\"dataframe\">\n",
              "  <thead>\n",
              "    <tr style=\"text-align: right;\">\n",
              "      <th></th>\n",
              "      <th>sample</th>\n",
              "      <th>ph</th>\n",
              "      <th>Hardness</th>\n",
              "      <th>Solids</th>\n",
              "      <th>Chloramines</th>\n",
              "      <th>Sulfate</th>\n",
              "      <th>Conductivity</th>\n",
              "      <th>Organic_carbon</th>\n",
              "      <th>Trihalomethanes</th>\n",
              "      <th>Turbidity</th>\n",
              "      <th>Potability</th>\n",
              "    </tr>\n",
              "  </thead>\n",
              "  <tbody>\n",
              "    <tr>\n",
              "      <th>0</th>\n",
              "      <td>1</td>\n",
              "      <td>NaN</td>\n",
              "      <td>204.890456</td>\n",
              "      <td>20791.31898</td>\n",
              "      <td>7.300212</td>\n",
              "      <td>368.516441</td>\n",
              "      <td>564.308654</td>\n",
              "      <td>10.379783</td>\n",
              "      <td>86.990970</td>\n",
              "      <td>2.963135</td>\n",
              "      <td>0</td>\n",
              "    </tr>\n",
              "    <tr>\n",
              "      <th>1</th>\n",
              "      <td>2</td>\n",
              "      <td>3.716080</td>\n",
              "      <td>129.422921</td>\n",
              "      <td>18630.05786</td>\n",
              "      <td>6.635246</td>\n",
              "      <td>NaN</td>\n",
              "      <td>592.885359</td>\n",
              "      <td>15.180013</td>\n",
              "      <td>56.329076</td>\n",
              "      <td>4.500656</td>\n",
              "      <td>0</td>\n",
              "    </tr>\n",
              "    <tr>\n",
              "      <th>2</th>\n",
              "      <td>3</td>\n",
              "      <td>8.099124</td>\n",
              "      <td>224.236259</td>\n",
              "      <td>19909.54173</td>\n",
              "      <td>9.275884</td>\n",
              "      <td>NaN</td>\n",
              "      <td>418.606213</td>\n",
              "      <td>16.868637</td>\n",
              "      <td>66.420093</td>\n",
              "      <td>3.055934</td>\n",
              "      <td>0</td>\n",
              "    </tr>\n",
              "    <tr>\n",
              "      <th>3</th>\n",
              "      <td>4</td>\n",
              "      <td>8.316766</td>\n",
              "      <td>214.373394</td>\n",
              "      <td>22018.41744</td>\n",
              "      <td>8.059332</td>\n",
              "      <td>356.886136</td>\n",
              "      <td>363.266516</td>\n",
              "      <td>18.436525</td>\n",
              "      <td>100.341674</td>\n",
              "      <td>4.628771</td>\n",
              "      <td>0</td>\n",
              "    </tr>\n",
              "    <tr>\n",
              "      <th>4</th>\n",
              "      <td>5</td>\n",
              "      <td>9.092223</td>\n",
              "      <td>181.101509</td>\n",
              "      <td>17978.98634</td>\n",
              "      <td>6.546600</td>\n",
              "      <td>310.135738</td>\n",
              "      <td>398.410813</td>\n",
              "      <td>11.558279</td>\n",
              "      <td>31.997993</td>\n",
              "      <td>4.075075</td>\n",
              "      <td>0</td>\n",
              "    </tr>\n",
              "    <tr>\n",
              "      <th>...</th>\n",
              "      <td>...</td>\n",
              "      <td>...</td>\n",
              "      <td>...</td>\n",
              "      <td>...</td>\n",
              "      <td>...</td>\n",
              "      <td>...</td>\n",
              "      <td>...</td>\n",
              "      <td>...</td>\n",
              "      <td>...</td>\n",
              "      <td>...</td>\n",
              "      <td>...</td>\n",
              "    </tr>\n",
              "    <tr>\n",
              "      <th>3271</th>\n",
              "      <td>3272</td>\n",
              "      <td>4.668102</td>\n",
              "      <td>193.681736</td>\n",
              "      <td>47580.99160</td>\n",
              "      <td>7.166639</td>\n",
              "      <td>359.948574</td>\n",
              "      <td>526.424171</td>\n",
              "      <td>13.894419</td>\n",
              "      <td>66.687695</td>\n",
              "      <td>4.435821</td>\n",
              "      <td>1</td>\n",
              "    </tr>\n",
              "    <tr>\n",
              "      <th>3272</th>\n",
              "      <td>3273</td>\n",
              "      <td>7.808856</td>\n",
              "      <td>193.553212</td>\n",
              "      <td>17329.80216</td>\n",
              "      <td>8.061362</td>\n",
              "      <td>NaN</td>\n",
              "      <td>392.449580</td>\n",
              "      <td>19.903225</td>\n",
              "      <td>NaN</td>\n",
              "      <td>2.798243</td>\n",
              "      <td>1</td>\n",
              "    </tr>\n",
              "    <tr>\n",
              "      <th>3273</th>\n",
              "      <td>3274</td>\n",
              "      <td>9.419510</td>\n",
              "      <td>175.762646</td>\n",
              "      <td>33155.57822</td>\n",
              "      <td>7.350233</td>\n",
              "      <td>NaN</td>\n",
              "      <td>432.044783</td>\n",
              "      <td>11.039070</td>\n",
              "      <td>69.845400</td>\n",
              "      <td>3.298875</td>\n",
              "      <td>1</td>\n",
              "    </tr>\n",
              "    <tr>\n",
              "      <th>3274</th>\n",
              "      <td>3275</td>\n",
              "      <td>5.126763</td>\n",
              "      <td>230.603758</td>\n",
              "      <td>11983.86938</td>\n",
              "      <td>6.303357</td>\n",
              "      <td>NaN</td>\n",
              "      <td>402.883113</td>\n",
              "      <td>11.168946</td>\n",
              "      <td>77.488213</td>\n",
              "      <td>4.708658</td>\n",
              "      <td>1</td>\n",
              "    </tr>\n",
              "    <tr>\n",
              "      <th>3275</th>\n",
              "      <td>3276</td>\n",
              "      <td>7.874671</td>\n",
              "      <td>195.102299</td>\n",
              "      <td>17404.17706</td>\n",
              "      <td>7.509306</td>\n",
              "      <td>NaN</td>\n",
              "      <td>327.459761</td>\n",
              "      <td>16.140368</td>\n",
              "      <td>78.698446</td>\n",
              "      <td>2.309149</td>\n",
              "      <td>1</td>\n",
              "    </tr>\n",
              "  </tbody>\n",
              "</table>\n",
              "<p>3276 rows × 11 columns</p>\n",
              "</div>"
            ],
            "text/plain": [
              "      sample        ph    Hardness       Solids  Chloramines     Sulfate  \\\n",
              "0          1       NaN  204.890456  20791.31898     7.300212  368.516441   \n",
              "1          2  3.716080  129.422921  18630.05786     6.635246         NaN   \n",
              "2          3  8.099124  224.236259  19909.54173     9.275884         NaN   \n",
              "3          4  8.316766  214.373394  22018.41744     8.059332  356.886136   \n",
              "4          5  9.092223  181.101509  17978.98634     6.546600  310.135738   \n",
              "...      ...       ...         ...          ...          ...         ...   \n",
              "3271    3272  4.668102  193.681736  47580.99160     7.166639  359.948574   \n",
              "3272    3273  7.808856  193.553212  17329.80216     8.061362         NaN   \n",
              "3273    3274  9.419510  175.762646  33155.57822     7.350233         NaN   \n",
              "3274    3275  5.126763  230.603758  11983.86938     6.303357         NaN   \n",
              "3275    3276  7.874671  195.102299  17404.17706     7.509306         NaN   \n",
              "\n",
              "      Conductivity  Organic_carbon  Trihalomethanes  Turbidity  Potability  \n",
              "0       564.308654       10.379783        86.990970   2.963135           0  \n",
              "1       592.885359       15.180013        56.329076   4.500656           0  \n",
              "2       418.606213       16.868637        66.420093   3.055934           0  \n",
              "3       363.266516       18.436525       100.341674   4.628771           0  \n",
              "4       398.410813       11.558279        31.997993   4.075075           0  \n",
              "...            ...             ...              ...        ...         ...  \n",
              "3271    526.424171       13.894419        66.687695   4.435821           1  \n",
              "3272    392.449580       19.903225              NaN   2.798243           1  \n",
              "3273    432.044783       11.039070        69.845400   3.298875           1  \n",
              "3274    402.883113       11.168946        77.488213   4.708658           1  \n",
              "3275    327.459761       16.140368        78.698446   2.309149           1  \n",
              "\n",
              "[3276 rows x 11 columns]"
            ]
          },
          "execution_count": 38,
          "metadata": {},
          "output_type": "execute_result"
        }
      ],
      "source": [
        "df = pd.read_csv(r\"C:\\Users\\verma\\Downloads\\water_potability.csv\")\n",
        "df"
      ]
    },
    {
      "cell_type": "code",
      "execution_count": null,
      "id": "756f3d3d",
      "metadata": {
        "id": "756f3d3d"
      },
      "outputs": [],
      "source": [
        "# 1.2 Display multiple commands output from a cell\n",
        "from IPython.core.interactiveshell import InteractiveShell\n",
        "InteractiveShell.ast_node_interactivity = \"all\""
      ]
    },
    {
      "cell_type": "code",
      "execution_count": null,
      "id": "32bf3534",
      "metadata": {
        "id": "32bf3534",
        "outputId": "b8406ab4-63a1-4ac9-ac7b-b5e093bdd272"
      },
      "outputs": [
        {
          "data": {
            "text/plain": [
              "sample               0\n",
              "ph                 491\n",
              "Hardness             0\n",
              "Solids               0\n",
              "Chloramines          0\n",
              "Sulfate            781\n",
              "Conductivity         0\n",
              "Organic_carbon       0\n",
              "Trihalomethanes    162\n",
              "Turbidity            0\n",
              "Potability           0\n",
              "dtype: int64"
            ]
          },
          "execution_count": 40,
          "metadata": {},
          "output_type": "execute_result"
        }
      ],
      "source": [
        "df.isnull().sum()"
      ]
    },
    {
      "cell_type": "code",
      "execution_count": null,
      "id": "424a1998",
      "metadata": {
        "id": "424a1998",
        "outputId": "6bc298d8-0dac-465d-b5f2-b4272bdf2a25"
      },
      "outputs": [
        {
          "data": {
            "text/plain": [
              "Index(['sample', 'ph', 'Hardness', 'Solids', 'Chloramines', 'Sulfate',\n",
              "       'Conductivity', 'Organic_carbon', 'Trihalomethanes', 'Turbidity',\n",
              "       'Potability'],\n",
              "      dtype='object')"
            ]
          },
          "execution_count": 41,
          "metadata": {},
          "output_type": "execute_result"
        }
      ],
      "source": [
        "df.columns"
      ]
    },
    {
      "cell_type": "code",
      "execution_count": null,
      "id": "55a7bc4e",
      "metadata": {
        "id": "55a7bc4e",
        "outputId": "10151839-11f9-44c6-87e6-341044b6408b"
      },
      "outputs": [
        {
          "name": "stdout",
          "output_type": "stream",
          "text": [
            "<class 'pandas.core.frame.DataFrame'>\n",
            "RangeIndex: 3276 entries, 0 to 3275\n",
            "Data columns (total 11 columns):\n",
            " #   Column           Non-Null Count  Dtype  \n",
            "---  ------           --------------  -----  \n",
            " 0   sample           3276 non-null   int64  \n",
            " 1   ph               2785 non-null   float64\n",
            " 2   Hardness         3276 non-null   float64\n",
            " 3   Solids           3276 non-null   float64\n",
            " 4   Chloramines      3276 non-null   float64\n",
            " 5   Sulfate          2495 non-null   float64\n",
            " 6   Conductivity     3276 non-null   float64\n",
            " 7   Organic_carbon   3276 non-null   float64\n",
            " 8   Trihalomethanes  3114 non-null   float64\n",
            " 9   Turbidity        3276 non-null   float64\n",
            " 10  Potability       3276 non-null   int64  \n",
            "dtypes: float64(9), int64(2)\n",
            "memory usage: 281.7 KB\n"
          ]
        },
        {
          "data": {
            "text/plain": [
              "sample               0\n",
              "ph                 491\n",
              "Hardness             0\n",
              "Solids               0\n",
              "Chloramines          0\n",
              "Sulfate            781\n",
              "Conductivity         0\n",
              "Organic_carbon       0\n",
              "Trihalomethanes    162\n",
              "Turbidity            0\n",
              "Potability           0\n",
              "dtype: int64"
            ]
          },
          "execution_count": 42,
          "metadata": {},
          "output_type": "execute_result"
        },
        {
          "data": {
            "text/plain": [
              "3067    3\n",
              "141     3\n",
              "992     3\n",
              "2065    3\n",
              "929     3\n",
              "dtype: int64"
            ]
          },
          "execution_count": 42,
          "metadata": {},
          "output_type": "execute_result"
        }
      ],
      "source": [
        "df.info() # Dataframe Information (Provide Information on Missing Data)\n",
        "variable_missing_data = df.isna().sum(); variable_missing_data # Variable-wise Missing Data Information\n",
        "record_missing_data = df.isna().sum(axis=1).sort_values(ascending=False).head(5); record_missing_data # Record-wise Missing Data Information (Top 5)"
      ]
    },
    {
      "cell_type": "code",
      "execution_count": null,
      "id": "51bd9905",
      "metadata": {
        "id": "51bd9905"
      },
      "outputs": [],
      "source": [
        "imputer = SimpleImputer(strategy='mean')\n",
        "df.fillna(df.mean(), inplace=True)\n",
        "df_imputed = imputer.fit_transform(df)"
      ]
    },
    {
      "cell_type": "code",
      "execution_count": null,
      "id": "a06fe8f5",
      "metadata": {
        "id": "a06fe8f5"
      },
      "outputs": [],
      "source": [
        "scaler = StandardScaler()\n",
        "df_scaled = scaler.fit_transform(df_imputed)"
      ]
    },
    {
      "cell_type": "code",
      "execution_count": null,
      "id": "c49230de",
      "metadata": {
        "id": "c49230de",
        "outputId": "7f2de30d-5fe8-4879-857f-fb8f967b67fb"
      },
      "outputs": [
        {
          "data": {
            "text/plain": [
              "sample             0\n",
              "ph                 0\n",
              "Hardness           0\n",
              "Solids             0\n",
              "Chloramines        0\n",
              "Sulfate            0\n",
              "Conductivity       0\n",
              "Organic_carbon     0\n",
              "Trihalomethanes    0\n",
              "Turbidity          0\n",
              "Potability         0\n",
              "dtype: int64"
            ]
          },
          "execution_count": 45,
          "metadata": {},
          "output_type": "execute_result"
        }
      ],
      "source": [
        "df.isnull().sum()"
      ]
    },
    {
      "cell_type": "code",
      "execution_count": null,
      "id": "638bea73",
      "metadata": {
        "id": "638bea73",
        "outputId": "b78b0051-04d0-483f-bfe4-e15d2741934c"
      },
      "outputs": [
        {
          "data": {
            "text/html": [
              "<div>\n",
              "<style scoped>\n",
              "    .dataframe tbody tr th:only-of-type {\n",
              "        vertical-align: middle;\n",
              "    }\n",
              "\n",
              "    .dataframe tbody tr th {\n",
              "        vertical-align: top;\n",
              "    }\n",
              "\n",
              "    .dataframe thead th {\n",
              "        text-align: right;\n",
              "    }\n",
              "</style>\n",
              "<table border=\"1\" class=\"dataframe\">\n",
              "  <thead>\n",
              "    <tr style=\"text-align: right;\">\n",
              "      <th></th>\n",
              "      <th>sample</th>\n",
              "      <th>ph</th>\n",
              "      <th>Hardness</th>\n",
              "      <th>Solids</th>\n",
              "      <th>Chloramines</th>\n",
              "      <th>Sulfate</th>\n",
              "      <th>Conductivity</th>\n",
              "      <th>Organic_carbon</th>\n",
              "      <th>Trihalomethanes</th>\n",
              "      <th>Turbidity</th>\n",
              "      <th>Potability</th>\n",
              "    </tr>\n",
              "  </thead>\n",
              "  <tbody>\n",
              "    <tr>\n",
              "      <th>1077</th>\n",
              "      <td>1078</td>\n",
              "      <td>8.037430</td>\n",
              "      <td>148.415309</td>\n",
              "      <td>48410.47101</td>\n",
              "      <td>4.755880</td>\n",
              "      <td>268.211896</td>\n",
              "      <td>392.901206</td>\n",
              "      <td>12.466610</td>\n",
              "      <td>66.396293</td>\n",
              "      <td>2.506238</td>\n",
              "      <td>1</td>\n",
              "    </tr>\n",
              "    <tr>\n",
              "      <th>1830</th>\n",
              "      <td>1831</td>\n",
              "      <td>5.404511</td>\n",
              "      <td>258.903489</td>\n",
              "      <td>10168.17654</td>\n",
              "      <td>9.648197</td>\n",
              "      <td>248.711963</td>\n",
              "      <td>396.911214</td>\n",
              "      <td>15.512208</td>\n",
              "      <td>65.805331</td>\n",
              "      <td>3.998176</td>\n",
              "      <td>0</td>\n",
              "    </tr>\n",
              "    <tr>\n",
              "      <th>361</th>\n",
              "      <td>362</td>\n",
              "      <td>7.063647</td>\n",
              "      <td>140.612866</td>\n",
              "      <td>17941.81126</td>\n",
              "      <td>6.275305</td>\n",
              "      <td>376.046156</td>\n",
              "      <td>402.593602</td>\n",
              "      <td>12.439740</td>\n",
              "      <td>29.468428</td>\n",
              "      <td>3.395866</td>\n",
              "      <td>1</td>\n",
              "    </tr>\n",
              "    <tr>\n",
              "      <th>1035</th>\n",
              "      <td>1036</td>\n",
              "      <td>8.310029</td>\n",
              "      <td>212.698276</td>\n",
              "      <td>40936.15339</td>\n",
              "      <td>7.703375</td>\n",
              "      <td>301.254422</td>\n",
              "      <td>365.431213</td>\n",
              "      <td>12.971869</td>\n",
              "      <td>70.485251</td>\n",
              "      <td>4.775785</td>\n",
              "      <td>0</td>\n",
              "    </tr>\n",
              "    <tr>\n",
              "      <th>2650</th>\n",
              "      <td>2651</td>\n",
              "      <td>8.000776</td>\n",
              "      <td>237.519250</td>\n",
              "      <td>18419.13288</td>\n",
              "      <td>8.323330</td>\n",
              "      <td>308.006321</td>\n",
              "      <td>396.376554</td>\n",
              "      <td>13.492536</td>\n",
              "      <td>82.753278</td>\n",
              "      <td>4.519210</td>\n",
              "      <td>0</td>\n",
              "    </tr>\n",
              "    <tr>\n",
              "      <th>...</th>\n",
              "      <td>...</td>\n",
              "      <td>...</td>\n",
              "      <td>...</td>\n",
              "      <td>...</td>\n",
              "      <td>...</td>\n",
              "      <td>...</td>\n",
              "      <td>...</td>\n",
              "      <td>...</td>\n",
              "      <td>...</td>\n",
              "      <td>...</td>\n",
              "      <td>...</td>\n",
              "    </tr>\n",
              "    <tr>\n",
              "      <th>664</th>\n",
              "      <td>665</td>\n",
              "      <td>7.080795</td>\n",
              "      <td>188.743562</td>\n",
              "      <td>19037.46264</td>\n",
              "      <td>6.034236</td>\n",
              "      <td>333.775777</td>\n",
              "      <td>388.065857</td>\n",
              "      <td>15.149068</td>\n",
              "      <td>78.499418</td>\n",
              "      <td>2.723651</td>\n",
              "      <td>1</td>\n",
              "    </tr>\n",
              "    <tr>\n",
              "      <th>3125</th>\n",
              "      <td>3126</td>\n",
              "      <td>6.103731</td>\n",
              "      <td>184.328693</td>\n",
              "      <td>17977.52565</td>\n",
              "      <td>7.275531</td>\n",
              "      <td>333.775777</td>\n",
              "      <td>334.949739</td>\n",
              "      <td>7.655381</td>\n",
              "      <td>59.000666</td>\n",
              "      <td>3.383049</td>\n",
              "      <td>1</td>\n",
              "    </tr>\n",
              "    <tr>\n",
              "      <th>1318</th>\n",
              "      <td>1319</td>\n",
              "      <td>6.724639</td>\n",
              "      <td>223.175416</td>\n",
              "      <td>41552.01966</td>\n",
              "      <td>7.744700</td>\n",
              "      <td>271.157120</td>\n",
              "      <td>463.885216</td>\n",
              "      <td>13.165035</td>\n",
              "      <td>61.058796</td>\n",
              "      <td>2.921415</td>\n",
              "      <td>0</td>\n",
              "    </tr>\n",
              "    <tr>\n",
              "      <th>723</th>\n",
              "      <td>724</td>\n",
              "      <td>10.137932</td>\n",
              "      <td>242.005716</td>\n",
              "      <td>15088.82765</td>\n",
              "      <td>8.677789</td>\n",
              "      <td>333.775777</td>\n",
              "      <td>596.346346</td>\n",
              "      <td>14.971199</td>\n",
              "      <td>62.365824</td>\n",
              "      <td>3.872018</td>\n",
              "      <td>1</td>\n",
              "    </tr>\n",
              "    <tr>\n",
              "      <th>2863</th>\n",
              "      <td>2864</td>\n",
              "      <td>5.547576</td>\n",
              "      <td>182.644736</td>\n",
              "      <td>27417.99804</td>\n",
              "      <td>9.586090</td>\n",
              "      <td>378.526141</td>\n",
              "      <td>596.650495</td>\n",
              "      <td>11.565242</td>\n",
              "      <td>78.878604</td>\n",
              "      <td>4.448671</td>\n",
              "      <td>1</td>\n",
              "    </tr>\n",
              "  </tbody>\n",
              "</table>\n",
              "<p>2457 rows × 11 columns</p>\n",
              "</div>"
            ],
            "text/plain": [
              "      sample         ph    Hardness       Solids  Chloramines     Sulfate  \\\n",
              "1077    1078   8.037430  148.415309  48410.47101     4.755880  268.211896   \n",
              "1830    1831   5.404511  258.903489  10168.17654     9.648197  248.711963   \n",
              "361      362   7.063647  140.612866  17941.81126     6.275305  376.046156   \n",
              "1035    1036   8.310029  212.698276  40936.15339     7.703375  301.254422   \n",
              "2650    2651   8.000776  237.519250  18419.13288     8.323330  308.006321   \n",
              "...      ...        ...         ...          ...          ...         ...   \n",
              "664      665   7.080795  188.743562  19037.46264     6.034236  333.775777   \n",
              "3125    3126   6.103731  184.328693  17977.52565     7.275531  333.775777   \n",
              "1318    1319   6.724639  223.175416  41552.01966     7.744700  271.157120   \n",
              "723      724  10.137932  242.005716  15088.82765     8.677789  333.775777   \n",
              "2863    2864   5.547576  182.644736  27417.99804     9.586090  378.526141   \n",
              "\n",
              "      Conductivity  Organic_carbon  Trihalomethanes  Turbidity  Potability  \n",
              "1077    392.901206       12.466610        66.396293   2.506238           1  \n",
              "1830    396.911214       15.512208        65.805331   3.998176           0  \n",
              "361     402.593602       12.439740        29.468428   3.395866           1  \n",
              "1035    365.431213       12.971869        70.485251   4.775785           0  \n",
              "2650    396.376554       13.492536        82.753278   4.519210           0  \n",
              "...            ...             ...              ...        ...         ...  \n",
              "664     388.065857       15.149068        78.499418   2.723651           1  \n",
              "3125    334.949739        7.655381        59.000666   3.383049           1  \n",
              "1318    463.885216       13.165035        61.058796   2.921415           0  \n",
              "723     596.346346       14.971199        62.365824   3.872018           1  \n",
              "2863    596.650495       11.565242        78.878604   4.448671           1  \n",
              "\n",
              "[2457 rows x 11 columns]"
            ]
          },
          "execution_count": 46,
          "metadata": {},
          "output_type": "execute_result"
        },
        {
          "data": {
            "text/html": [
              "<div>\n",
              "<style scoped>\n",
              "    .dataframe tbody tr th:only-of-type {\n",
              "        vertical-align: middle;\n",
              "    }\n",
              "\n",
              "    .dataframe tbody tr th {\n",
              "        vertical-align: top;\n",
              "    }\n",
              "\n",
              "    .dataframe thead th {\n",
              "        text-align: right;\n",
              "    }\n",
              "</style>\n",
              "<table border=\"1\" class=\"dataframe\">\n",
              "  <thead>\n",
              "    <tr style=\"text-align: right;\">\n",
              "      <th></th>\n",
              "      <th>sample</th>\n",
              "      <th>ph</th>\n",
              "      <th>Hardness</th>\n",
              "      <th>Solids</th>\n",
              "      <th>Chloramines</th>\n",
              "      <th>Sulfate</th>\n",
              "      <th>Conductivity</th>\n",
              "      <th>Organic_carbon</th>\n",
              "      <th>Trihalomethanes</th>\n",
              "      <th>Turbidity</th>\n",
              "      <th>Potability</th>\n",
              "    </tr>\n",
              "  </thead>\n",
              "  <tbody>\n",
              "    <tr>\n",
              "      <th>576</th>\n",
              "      <td>577</td>\n",
              "      <td>6.124672</td>\n",
              "      <td>179.579753</td>\n",
              "      <td>27951.613070</td>\n",
              "      <td>8.075627</td>\n",
              "      <td>303.646928</td>\n",
              "      <td>467.171822</td>\n",
              "      <td>13.835117</td>\n",
              "      <td>69.017488</td>\n",
              "      <td>3.631007</td>\n",
              "      <td>0</td>\n",
              "    </tr>\n",
              "    <tr>\n",
              "      <th>1712</th>\n",
              "      <td>1713</td>\n",
              "      <td>5.853561</td>\n",
              "      <td>186.807751</td>\n",
              "      <td>19790.856930</td>\n",
              "      <td>6.615781</td>\n",
              "      <td>333.775777</td>\n",
              "      <td>489.796888</td>\n",
              "      <td>19.670703</td>\n",
              "      <td>65.040007</td>\n",
              "      <td>3.756874</td>\n",
              "      <td>0</td>\n",
              "    </tr>\n",
              "    <tr>\n",
              "      <th>1505</th>\n",
              "      <td>1506</td>\n",
              "      <td>7.080795</td>\n",
              "      <td>190.267367</td>\n",
              "      <td>15255.115260</td>\n",
              "      <td>7.597688</td>\n",
              "      <td>366.192327</td>\n",
              "      <td>418.476742</td>\n",
              "      <td>13.312723</td>\n",
              "      <td>68.944888</td>\n",
              "      <td>3.796737</td>\n",
              "      <td>1</td>\n",
              "    </tr>\n",
              "    <tr>\n",
              "      <th>118</th>\n",
              "      <td>119</td>\n",
              "      <td>7.397413</td>\n",
              "      <td>122.541040</td>\n",
              "      <td>8855.114121</td>\n",
              "      <td>6.888689</td>\n",
              "      <td>241.607532</td>\n",
              "      <td>489.851600</td>\n",
              "      <td>13.365906</td>\n",
              "      <td>66.396293</td>\n",
              "      <td>3.149158</td>\n",
              "      <td>0</td>\n",
              "    </tr>\n",
              "    <tr>\n",
              "      <th>2706</th>\n",
              "      <td>2707</td>\n",
              "      <td>7.873272</td>\n",
              "      <td>182.646659</td>\n",
              "      <td>25337.122960</td>\n",
              "      <td>3.715065</td>\n",
              "      <td>362.484604</td>\n",
              "      <td>315.189948</td>\n",
              "      <td>12.132425</td>\n",
              "      <td>65.499925</td>\n",
              "      <td>3.306393</td>\n",
              "      <td>0</td>\n",
              "    </tr>\n",
              "    <tr>\n",
              "      <th>...</th>\n",
              "      <td>...</td>\n",
              "      <td>...</td>\n",
              "      <td>...</td>\n",
              "      <td>...</td>\n",
              "      <td>...</td>\n",
              "      <td>...</td>\n",
              "      <td>...</td>\n",
              "      <td>...</td>\n",
              "      <td>...</td>\n",
              "      <td>...</td>\n",
              "      <td>...</td>\n",
              "    </tr>\n",
              "    <tr>\n",
              "      <th>1143</th>\n",
              "      <td>1144</td>\n",
              "      <td>6.143018</td>\n",
              "      <td>147.471973</td>\n",
              "      <td>34865.324630</td>\n",
              "      <td>3.684463</td>\n",
              "      <td>285.455102</td>\n",
              "      <td>475.445268</td>\n",
              "      <td>20.939359</td>\n",
              "      <td>54.198520</td>\n",
              "      <td>5.370403</td>\n",
              "      <td>1</td>\n",
              "    </tr>\n",
              "    <tr>\n",
              "      <th>3057</th>\n",
              "      <td>3058</td>\n",
              "      <td>7.985406</td>\n",
              "      <td>200.134697</td>\n",
              "      <td>17583.080330</td>\n",
              "      <td>6.771729</td>\n",
              "      <td>296.569823</td>\n",
              "      <td>377.584203</td>\n",
              "      <td>10.289288</td>\n",
              "      <td>66.890747</td>\n",
              "      <td>4.752452</td>\n",
              "      <td>0</td>\n",
              "    </tr>\n",
              "    <tr>\n",
              "      <th>2271</th>\n",
              "      <td>2272</td>\n",
              "      <td>8.388322</td>\n",
              "      <td>256.234007</td>\n",
              "      <td>16795.820480</td>\n",
              "      <td>4.143519</td>\n",
              "      <td>333.775777</td>\n",
              "      <td>333.946197</td>\n",
              "      <td>10.821321</td>\n",
              "      <td>55.190219</td>\n",
              "      <td>3.854772</td>\n",
              "      <td>0</td>\n",
              "    </tr>\n",
              "    <tr>\n",
              "      <th>1565</th>\n",
              "      <td>1566</td>\n",
              "      <td>6.191241</td>\n",
              "      <td>231.322797</td>\n",
              "      <td>29778.357880</td>\n",
              "      <td>4.381097</td>\n",
              "      <td>248.304391</td>\n",
              "      <td>488.954164</td>\n",
              "      <td>13.022135</td>\n",
              "      <td>54.060851</td>\n",
              "      <td>3.315071</td>\n",
              "      <td>1</td>\n",
              "    </tr>\n",
              "    <tr>\n",
              "      <th>1808</th>\n",
              "      <td>1809</td>\n",
              "      <td>7.080795</td>\n",
              "      <td>165.737954</td>\n",
              "      <td>22900.118250</td>\n",
              "      <td>5.735689</td>\n",
              "      <td>379.374933</td>\n",
              "      <td>473.804911</td>\n",
              "      <td>13.082872</td>\n",
              "      <td>63.035163</td>\n",
              "      <td>4.069166</td>\n",
              "      <td>0</td>\n",
              "    </tr>\n",
              "  </tbody>\n",
              "</table>\n",
              "<p>819 rows × 11 columns</p>\n",
              "</div>"
            ],
            "text/plain": [
              "      sample        ph    Hardness        Solids  Chloramines     Sulfate  \\\n",
              "576      577  6.124672  179.579753  27951.613070     8.075627  303.646928   \n",
              "1712    1713  5.853561  186.807751  19790.856930     6.615781  333.775777   \n",
              "1505    1506  7.080795  190.267367  15255.115260     7.597688  366.192327   \n",
              "118      119  7.397413  122.541040   8855.114121     6.888689  241.607532   \n",
              "2706    2707  7.873272  182.646659  25337.122960     3.715065  362.484604   \n",
              "...      ...       ...         ...           ...          ...         ...   \n",
              "1143    1144  6.143018  147.471973  34865.324630     3.684463  285.455102   \n",
              "3057    3058  7.985406  200.134697  17583.080330     6.771729  296.569823   \n",
              "2271    2272  8.388322  256.234007  16795.820480     4.143519  333.775777   \n",
              "1565    1566  6.191241  231.322797  29778.357880     4.381097  248.304391   \n",
              "1808    1809  7.080795  165.737954  22900.118250     5.735689  379.374933   \n",
              "\n",
              "      Conductivity  Organic_carbon  Trihalomethanes  Turbidity  Potability  \n",
              "576     467.171822       13.835117        69.017488   3.631007           0  \n",
              "1712    489.796888       19.670703        65.040007   3.756874           0  \n",
              "1505    418.476742       13.312723        68.944888   3.796737           1  \n",
              "118     489.851600       13.365906        66.396293   3.149158           0  \n",
              "2706    315.189948       12.132425        65.499925   3.306393           0  \n",
              "...            ...             ...              ...        ...         ...  \n",
              "1143    475.445268       20.939359        54.198520   5.370403           1  \n",
              "3057    377.584203       10.289288        66.890747   4.752452           0  \n",
              "2271    333.946197       10.821321        55.190219   3.854772           0  \n",
              "1565    488.954164       13.022135        54.060851   3.315071           1  \n",
              "1808    473.804911       13.082872        63.035163   4.069166           0  \n",
              "\n",
              "[819 rows x 11 columns]"
            ]
          },
          "execution_count": 46,
          "metadata": {},
          "output_type": "execute_result"
        }
      ],
      "source": [
        "# 4. Data Bifurcation [Training & Testing Datasets]\n",
        "# -------------------------------------------------\n",
        "\n",
        "# Dataset Used : df_ppd\n",
        "\n",
        "train_df, test_df = train_test_split(df, test_size=0.25, random_state=1234)\n",
        "train_df # Training Dataset\n",
        "test_df # Testing Dataset"
      ]
    },
    {
      "cell_type": "code",
      "execution_count": null,
      "id": "3f68fdb2",
      "metadata": {
        "id": "3f68fdb2"
      },
      "outputs": [],
      "source": [
        "import matplotlib.pyplot as plt, seaborn as sns # For Data Visualization\n",
        "from sklearn.model_selection import train_test_split # For Splitting Data into Training & Testing Sets\n",
        "from sklearn.tree import DecisionTreeClassifier, export_text, plot_tree  # For Decision Tree Model\n",
        "from sklearn.metrics import confusion_matrix, classification_report # For Decision Tree Model Evaluation"
      ]
    },
    {
      "cell_type": "code",
      "execution_count": null,
      "id": "9bc786e3",
      "metadata": {
        "id": "9bc786e3",
        "outputId": "94434ba3-9aa6-4896-c538-347ffe540ae7"
      },
      "outputs": [
        {
          "data": {
            "text/html": [
              "<div>\n",
              "<style scoped>\n",
              "    .dataframe tbody tr th:only-of-type {\n",
              "        vertical-align: middle;\n",
              "    }\n",
              "\n",
              "    .dataframe tbody tr th {\n",
              "        vertical-align: top;\n",
              "    }\n",
              "\n",
              "    .dataframe thead th {\n",
              "        text-align: right;\n",
              "    }\n",
              "</style>\n",
              "<table border=\"1\" class=\"dataframe\">\n",
              "  <thead>\n",
              "    <tr style=\"text-align: right;\">\n",
              "      <th></th>\n",
              "      <th>ph</th>\n",
              "      <th>Hardness</th>\n",
              "      <th>Solids</th>\n",
              "      <th>Turbidity</th>\n",
              "    </tr>\n",
              "  </thead>\n",
              "  <tbody>\n",
              "    <tr>\n",
              "      <th>0</th>\n",
              "      <td>7.080795</td>\n",
              "      <td>204.890456</td>\n",
              "      <td>20791.31898</td>\n",
              "      <td>2.963135</td>\n",
              "    </tr>\n",
              "    <tr>\n",
              "      <th>1</th>\n",
              "      <td>3.716080</td>\n",
              "      <td>129.422921</td>\n",
              "      <td>18630.05786</td>\n",
              "      <td>4.500656</td>\n",
              "    </tr>\n",
              "    <tr>\n",
              "      <th>2</th>\n",
              "      <td>8.099124</td>\n",
              "      <td>224.236259</td>\n",
              "      <td>19909.54173</td>\n",
              "      <td>3.055934</td>\n",
              "    </tr>\n",
              "    <tr>\n",
              "      <th>3</th>\n",
              "      <td>8.316766</td>\n",
              "      <td>214.373394</td>\n",
              "      <td>22018.41744</td>\n",
              "      <td>4.628771</td>\n",
              "    </tr>\n",
              "    <tr>\n",
              "      <th>4</th>\n",
              "      <td>9.092223</td>\n",
              "      <td>181.101509</td>\n",
              "      <td>17978.98634</td>\n",
              "      <td>4.075075</td>\n",
              "    </tr>\n",
              "    <tr>\n",
              "      <th>...</th>\n",
              "      <td>...</td>\n",
              "      <td>...</td>\n",
              "      <td>...</td>\n",
              "      <td>...</td>\n",
              "    </tr>\n",
              "    <tr>\n",
              "      <th>3271</th>\n",
              "      <td>4.668102</td>\n",
              "      <td>193.681736</td>\n",
              "      <td>47580.99160</td>\n",
              "      <td>4.435821</td>\n",
              "    </tr>\n",
              "    <tr>\n",
              "      <th>3272</th>\n",
              "      <td>7.808856</td>\n",
              "      <td>193.553212</td>\n",
              "      <td>17329.80216</td>\n",
              "      <td>2.798243</td>\n",
              "    </tr>\n",
              "    <tr>\n",
              "      <th>3273</th>\n",
              "      <td>9.419510</td>\n",
              "      <td>175.762646</td>\n",
              "      <td>33155.57822</td>\n",
              "      <td>3.298875</td>\n",
              "    </tr>\n",
              "    <tr>\n",
              "      <th>3274</th>\n",
              "      <td>5.126763</td>\n",
              "      <td>230.603758</td>\n",
              "      <td>11983.86938</td>\n",
              "      <td>4.708658</td>\n",
              "    </tr>\n",
              "    <tr>\n",
              "      <th>3275</th>\n",
              "      <td>7.874671</td>\n",
              "      <td>195.102299</td>\n",
              "      <td>17404.17706</td>\n",
              "      <td>2.309149</td>\n",
              "    </tr>\n",
              "  </tbody>\n",
              "</table>\n",
              "<p>3276 rows × 4 columns</p>\n",
              "</div>"
            ],
            "text/plain": [
              "            ph    Hardness       Solids  Turbidity\n",
              "0     7.080795  204.890456  20791.31898   2.963135\n",
              "1     3.716080  129.422921  18630.05786   4.500656\n",
              "2     8.099124  224.236259  19909.54173   3.055934\n",
              "3     8.316766  214.373394  22018.41744   4.628771\n",
              "4     9.092223  181.101509  17978.98634   4.075075\n",
              "...        ...         ...          ...        ...\n",
              "3271  4.668102  193.681736  47580.99160   4.435821\n",
              "3272  7.808856  193.553212  17329.80216   2.798243\n",
              "3273  9.419510  175.762646  33155.57822   3.298875\n",
              "3274  5.126763  230.603758  11983.86938   4.708658\n",
              "3275  7.874671  195.102299  17404.17706   2.309149\n",
              "\n",
              "[3276 rows x 4 columns]"
            ]
          },
          "execution_count": 48,
          "metadata": {},
          "output_type": "execute_result"
        },
        {
          "data": {
            "text/html": [
              "<div>\n",
              "<style scoped>\n",
              "    .dataframe tbody tr th:only-of-type {\n",
              "        vertical-align: middle;\n",
              "    }\n",
              "\n",
              "    .dataframe tbody tr th {\n",
              "        vertical-align: top;\n",
              "    }\n",
              "\n",
              "    .dataframe thead th {\n",
              "        text-align: right;\n",
              "    }\n",
              "</style>\n",
              "<table border=\"1\" class=\"dataframe\">\n",
              "  <thead>\n",
              "    <tr style=\"text-align: right;\">\n",
              "      <th></th>\n",
              "      <th>Potability</th>\n",
              "    </tr>\n",
              "  </thead>\n",
              "  <tbody>\n",
              "    <tr>\n",
              "      <th>0</th>\n",
              "      <td>0</td>\n",
              "    </tr>\n",
              "    <tr>\n",
              "      <th>1</th>\n",
              "      <td>0</td>\n",
              "    </tr>\n",
              "    <tr>\n",
              "      <th>2</th>\n",
              "      <td>0</td>\n",
              "    </tr>\n",
              "    <tr>\n",
              "      <th>3</th>\n",
              "      <td>0</td>\n",
              "    </tr>\n",
              "    <tr>\n",
              "      <th>4</th>\n",
              "      <td>0</td>\n",
              "    </tr>\n",
              "    <tr>\n",
              "      <th>...</th>\n",
              "      <td>...</td>\n",
              "    </tr>\n",
              "    <tr>\n",
              "      <th>3271</th>\n",
              "      <td>1</td>\n",
              "    </tr>\n",
              "    <tr>\n",
              "      <th>3272</th>\n",
              "      <td>1</td>\n",
              "    </tr>\n",
              "    <tr>\n",
              "      <th>3273</th>\n",
              "      <td>1</td>\n",
              "    </tr>\n",
              "    <tr>\n",
              "      <th>3274</th>\n",
              "      <td>1</td>\n",
              "    </tr>\n",
              "    <tr>\n",
              "      <th>3275</th>\n",
              "      <td>1</td>\n",
              "    </tr>\n",
              "  </tbody>\n",
              "</table>\n",
              "<p>3276 rows × 1 columns</p>\n",
              "</div>"
            ],
            "text/plain": [
              "      Potability\n",
              "0              0\n",
              "1              0\n",
              "2              0\n",
              "3              0\n",
              "4              0\n",
              "...          ...\n",
              "3271           1\n",
              "3272           1\n",
              "3273           1\n",
              "3274           1\n",
              "3275           1\n",
              "\n",
              "[3276 rows x 1 columns]"
            ]
          },
          "execution_count": 48,
          "metadata": {},
          "output_type": "execute_result"
        },
        {
          "data": {
            "text/plain": [
              "Index(['ph', 'Hardness', 'Solids', 'Turbidity'], dtype='object')"
            ]
          },
          "execution_count": 48,
          "metadata": {},
          "output_type": "execute_result"
        },
        {
          "data": {
            "text/plain": [
              "array(['0', '1'], dtype='<U21')"
            ]
          },
          "execution_count": 48,
          "metadata": {},
          "output_type": "execute_result"
        }
      ],
      "source": [
        "df_inputs = df[['ph', 'Hardness', 'Solids', 'Turbidity']]; df_inputs\n",
        "df_output = df[['Potability']]; df_output\n",
        "\n",
        "df_inputs_names = df_inputs.columns; df_inputs_names\n",
        "df_output_labels = df_output['Potability'].unique().astype(str); df_output_labels"
      ]
    },
    {
      "cell_type": "code",
      "execution_count": null,
      "id": "a31c52d2",
      "metadata": {
        "id": "a31c52d2"
      },
      "outputs": [],
      "source": [
        "train_df_inputs, test_df_inputs, train_df_output, test_df_output = train_test_split(df_inputs, df_output, test_size=0.25, random_state=1234)"
      ]
    },
    {
      "cell_type": "code",
      "execution_count": null,
      "id": "947409a9",
      "metadata": {
        "id": "947409a9",
        "outputId": "6e3a738a-c944-4a54-86ae-4d877f5c7779"
      },
      "outputs": [
        {
          "data": {
            "text/plain": [
              "DecisionTreeClassifier(max_depth=3, random_state=35019)"
            ]
          },
          "execution_count": 50,
          "metadata": {},
          "output_type": "execute_result"
        }
      ],
      "source": [
        "df_dtc = DecisionTreeClassifier(criterion='gini', random_state=35019, max_depth = 3)\n",
        "df_dtc_model = df_dtc.fit(df_inputs, df_output); df_dtc_model"
      ]
    },
    {
      "cell_type": "code",
      "execution_count": null,
      "id": "75c3118b",
      "metadata": {
        "id": "75c3118b",
        "outputId": "63ab3868-6355-4161-967e-e1573e73c4c1"
      },
      "outputs": [
        {
          "name": "stdout",
          "output_type": "stream",
          "text": [
            "|--- ph <= 4.72\n",
            "|   |--- Hardness <= 268.11\n",
            "|   |   |--- Solids <= 10659.22\n",
            "|   |   |   |--- class: 1\n",
            "|   |   |--- Solids >  10659.22\n",
            "|   |   |   |--- class: 0\n",
            "|   |--- Hardness >  268.11\n",
            "|   |   |--- class: 1\n",
            "|--- ph >  4.72\n",
            "|   |--- Hardness <= 162.07\n",
            "|   |   |--- Hardness <= 98.41\n",
            "|   |   |   |--- class: 1\n",
            "|   |   |--- Hardness >  98.41\n",
            "|   |   |   |--- class: 0\n",
            "|   |--- Hardness >  162.07\n",
            "|   |   |--- ph <= 8.27\n",
            "|   |   |   |--- class: 0\n",
            "|   |   |--- ph >  8.27\n",
            "|   |   |   |--- class: 0\n",
            "\n"
          ]
        }
      ],
      "source": [
        "# Decision Tree : Model Rules\n",
        "dtc_model_rules = export_text(df_dtc_model, feature_names = list(df_inputs_names)); print(dtc_model_rules)"
      ]
    },
    {
      "cell_type": "code",
      "execution_count": null,
      "id": "2fb8238a",
      "metadata": {
        "id": "2fb8238a",
        "outputId": "52007213-4344-4072-ca6b-066a4b326fc3"
      },
      "outputs": [
        {
          "data": {
            "text/html": [
              "<div>\n",
              "<style scoped>\n",
              "    .dataframe tbody tr th:only-of-type {\n",
              "        vertical-align: middle;\n",
              "    }\n",
              "\n",
              "    .dataframe tbody tr th {\n",
              "        vertical-align: top;\n",
              "    }\n",
              "\n",
              "    .dataframe thead th {\n",
              "        text-align: right;\n",
              "    }\n",
              "</style>\n",
              "<table border=\"1\" class=\"dataframe\">\n",
              "  <thead>\n",
              "    <tr style=\"text-align: right;\">\n",
              "      <th></th>\n",
              "      <th>Feature</th>\n",
              "      <th>Importance</th>\n",
              "    </tr>\n",
              "  </thead>\n",
              "  <tbody>\n",
              "    <tr>\n",
              "      <th>1</th>\n",
              "      <td>Hardness</td>\n",
              "      <td>0.496</td>\n",
              "    </tr>\n",
              "    <tr>\n",
              "      <th>0</th>\n",
              "      <td>ph</td>\n",
              "      <td>0.429</td>\n",
              "    </tr>\n",
              "    <tr>\n",
              "      <th>2</th>\n",
              "      <td>Solids</td>\n",
              "      <td>0.075</td>\n",
              "    </tr>\n",
              "    <tr>\n",
              "      <th>3</th>\n",
              "      <td>Turbidity</td>\n",
              "      <td>0.000</td>\n",
              "    </tr>\n",
              "  </tbody>\n",
              "</table>\n",
              "</div>"
            ],
            "text/plain": [
              "     Feature  Importance\n",
              "1   Hardness       0.496\n",
              "0         ph       0.429\n",
              "2     Solids       0.075\n",
              "3  Turbidity       0.000"
            ]
          },
          "execution_count": 54,
          "metadata": {},
          "output_type": "execute_result"
        }
      ],
      "source": [
        "# Decision Tree : Feature Importance\n",
        "dtc_imp_features = pd.DataFrame({'Feature': df_inputs_names, 'Importance': np.round(df_dtc_model.feature_importances_, 3)})\n",
        "dtc_imp_features.sort_values('Importance', ascending=False, inplace=True); dtc_imp_features"
      ]
    },
    {
      "cell_type": "code",
      "execution_count": null,
      "id": "d99495b2",
      "metadata": {
        "id": "d99495b2",
        "outputId": "857efaca-24ed-4f08-c6ee-0b186045c935"
      },
      "outputs": [
        {
          "data": {
            "text/plain": [
              "array([0, 0, 0, ..., 0, 0, 0], dtype=int64)"
            ]
          },
          "execution_count": 56,
          "metadata": {},
          "output_type": "execute_result"
        }
      ],
      "source": [
        "# Decision Tree : Model Prediction (Training Subset)\n",
        "dtc_model_predict = df_dtc_model.predict(train_df_inputs); dtc_model_predict"
      ]
    },
    {
      "cell_type": "code",
      "execution_count": null,
      "id": "f9bc54f6",
      "metadata": {
        "id": "f9bc54f6",
        "outputId": "5c145be8-8cc8-413e-a7b2-8945915f67ab"
      },
      "outputs": [
        {
          "data": {
            "text/plain": [
              "array([0, 0, 0, 0, 0, 0, 0, 0, 0, 0, 0, 0, 0, 0, 0, 0, 0, 0, 0, 0, 0, 0,\n",
              "       0, 0, 0, 0, 0, 0, 0, 0, 0, 0, 0, 0, 0, 0, 0, 0, 0, 0, 0, 0, 0, 0,\n",
              "       0, 0, 0, 0, 0, 0, 0, 0, 0, 0, 0, 0, 0, 0, 0, 0, 0, 0, 0, 0, 0, 0,\n",
              "       0, 0, 0, 0, 0, 0, 0, 0, 0, 0, 0, 0, 0, 0, 0, 0, 0, 0, 0, 0, 0, 0,\n",
              "       0, 0, 0, 0, 0, 0, 0, 0, 0, 0, 0, 0, 0, 0, 0, 0, 0, 0, 0, 0, 0, 0,\n",
              "       0, 0, 0, 0, 0, 0, 0, 0, 0, 0, 0, 0, 0, 0, 0, 0, 0, 0, 0, 0, 0, 0,\n",
              "       0, 0, 0, 0, 0, 0, 0, 0, 0, 0, 0, 0, 0, 0, 0, 0, 0, 0, 0, 0, 0, 0,\n",
              "       0, 0, 0, 0, 0, 0, 0, 0, 0, 0, 0, 0, 0, 0, 0, 0, 0, 0, 0, 0, 0, 0,\n",
              "       0, 0, 0, 0, 0, 0, 0, 0, 1, 0, 0, 0, 0, 0, 0, 0, 0, 0, 1, 0, 0, 1,\n",
              "       0, 0, 0, 0, 0, 0, 0, 0, 0, 0, 0, 0, 0, 0, 0, 0, 0, 0, 0, 0, 0, 0,\n",
              "       0, 0, 0, 0, 0, 0, 0, 0, 0, 0, 0, 0, 0, 0, 0, 0, 0, 0, 0, 0, 0, 0,\n",
              "       0, 0, 0, 0, 0, 0, 0, 0, 0, 0, 0, 0, 0, 0, 0, 0, 0, 0, 0, 0, 0, 0,\n",
              "       1, 0, 0, 0, 0, 0, 0, 0, 0, 0, 0, 0, 0, 0, 0, 0, 0, 0, 0, 0, 0, 0,\n",
              "       0, 0, 0, 0, 0, 0, 0, 0, 0, 0, 0, 0, 0, 0, 0, 0, 0, 0, 0, 0, 0, 0,\n",
              "       0, 0, 0, 0, 0, 0, 0, 0, 0, 0, 0, 0, 0, 0, 0, 0, 0, 0, 0, 0, 0, 0,\n",
              "       0, 0, 0, 0, 0, 0, 0, 0, 0, 0, 0, 0, 0, 0, 1, 0, 0, 0, 0, 0, 0, 0,\n",
              "       0, 0, 0, 0, 0, 0, 0, 0, 0, 0, 0, 0, 0, 0, 0, 0, 0, 0, 0, 0, 0, 0,\n",
              "       0, 0, 0, 0, 0, 0, 0, 0, 0, 0, 0, 0, 0, 0, 0, 0, 0, 0, 0, 0, 0, 0,\n",
              "       0, 0, 0, 0, 0, 0, 0, 0, 0, 0, 0, 0, 0, 0, 0, 0, 0, 0, 0, 0, 0, 0,\n",
              "       0, 0, 0, 0, 0, 0, 0, 0, 0, 0, 0, 0, 0, 0, 0, 0, 0, 0, 0, 0, 0, 0,\n",
              "       0, 0, 0, 0, 0, 0, 0, 0, 0, 0, 0, 0, 0, 0, 0, 0, 0, 0, 0, 0, 0, 0,\n",
              "       0, 0, 0, 0, 0, 0, 0, 0, 0, 0, 0, 0, 0, 0, 0, 0, 0, 0, 0, 0, 0, 0,\n",
              "       0, 0, 0, 0, 0, 0, 0, 0, 0, 0, 0, 0, 0, 0, 0, 0, 0, 0, 0, 0, 0, 0,\n",
              "       0, 0, 0, 0, 0, 0, 0, 0, 0, 0, 0, 0, 0, 0, 0, 0, 0, 0, 0, 0, 0, 0,\n",
              "       0, 0, 0, 0, 0, 0, 0, 0, 0, 0, 0, 0, 0, 0, 0, 0, 0, 0, 0, 0, 0, 0,\n",
              "       0, 0, 0, 0, 0, 0, 0, 0, 0, 0, 0, 0, 0, 0, 0, 0, 0, 0, 0, 0, 0, 0,\n",
              "       0, 0, 0, 0, 0, 0, 0, 0, 0, 0, 0, 0, 0, 0, 0, 0, 0, 0, 0, 0, 0, 0,\n",
              "       0, 0, 0, 0, 0, 0, 0, 0, 0, 0, 0, 0, 0, 0, 0, 0, 0, 0, 0, 0, 0, 0,\n",
              "       0, 0, 0, 0, 0, 0, 0, 0, 0, 0, 0, 0, 0, 0, 0, 0, 0, 0, 0, 0, 0, 0,\n",
              "       0, 0, 0, 0, 0, 0, 0, 0, 0, 0, 0, 0, 0, 0, 0, 0, 0, 0, 0, 0, 0, 0,\n",
              "       0, 1, 0, 0, 0, 0, 0, 0, 0, 0, 0, 0, 0, 0, 0, 0, 0, 0, 0, 0, 0, 0,\n",
              "       0, 0, 0, 0, 0, 0, 0, 0, 0, 0, 0, 0, 0, 0, 0, 0, 0, 0, 0, 0, 0, 0,\n",
              "       0, 0, 0, 0, 0, 0, 0, 0, 0, 0, 0, 0, 0, 0, 0, 0, 0, 1, 0, 0, 0, 0,\n",
              "       0, 0, 0, 0, 0, 1, 0, 0, 0, 0, 0, 0, 0, 0, 0, 0, 0, 0, 0, 0, 0, 0,\n",
              "       0, 0, 0, 0, 0, 0, 0, 0, 0, 0, 0, 0, 0, 0, 0, 0, 0, 0, 0, 0, 0, 0,\n",
              "       0, 0, 0, 0, 0, 0, 0, 0, 0, 0, 0, 0, 0, 0, 0, 0, 0, 0, 0, 0, 0, 0,\n",
              "       0, 0, 0, 0, 0, 0, 0, 0, 0, 0, 0, 0, 0, 0, 0, 0, 0, 0, 0, 0, 0, 0,\n",
              "       0, 0, 0, 0, 0], dtype=int64)"
            ]
          },
          "execution_count": 57,
          "metadata": {},
          "output_type": "execute_result"
        }
      ],
      "source": [
        "# Decision Tree : Prediction (Testing Subset)\n",
        "dtc_predict = df_dtc_model.predict(test_df_inputs); dtc_predict"
      ]
    },
    {
      "cell_type": "code",
      "execution_count": null,
      "id": "31f56c47",
      "metadata": {
        "id": "31f56c47",
        "outputId": "ada86746-ba86-4a32-f592-18ed770ec7ad"
      },
      "outputs": [
        {
          "data": {
            "text/html": [
              "<div>\n",
              "<style scoped>\n",
              "    .dataframe tbody tr th:only-of-type {\n",
              "        vertical-align: middle;\n",
              "    }\n",
              "\n",
              "    .dataframe tbody tr th {\n",
              "        vertical-align: top;\n",
              "    }\n",
              "\n",
              "    .dataframe thead th {\n",
              "        text-align: right;\n",
              "    }\n",
              "</style>\n",
              "<table border=\"1\" class=\"dataframe\">\n",
              "  <thead>\n",
              "    <tr style=\"text-align: right;\">\n",
              "      <th></th>\n",
              "      <th>0</th>\n",
              "      <th>1</th>\n",
              "    </tr>\n",
              "  </thead>\n",
              "  <tbody>\n",
              "    <tr>\n",
              "      <th>0</th>\n",
              "      <td>1513</td>\n",
              "      <td>2</td>\n",
              "    </tr>\n",
              "    <tr>\n",
              "      <th>1</th>\n",
              "      <td>926</td>\n",
              "      <td>16</td>\n",
              "    </tr>\n",
              "  </tbody>\n",
              "</table>\n",
              "</div>"
            ],
            "text/plain": [
              "      0   1\n",
              "0  1513   2\n",
              "1   926  16"
            ]
          },
          "execution_count": 58,
          "metadata": {},
          "output_type": "execute_result"
        },
        {
          "name": "stdout",
          "output_type": "stream",
          "text": [
            "              precision    recall  f1-score   support\n",
            "\n",
            "           0       0.62      1.00      0.77      1515\n",
            "           1       0.89      0.02      0.03       942\n",
            "\n",
            "    accuracy                           0.62      2457\n",
            "   macro avg       0.75      0.51      0.40      2457\n",
            "weighted avg       0.72      0.62      0.48      2457\n",
            "\n"
          ]
        }
      ],
      "source": [
        "# Decision Tree : Model Evaluation (Training Subset)\n",
        "dtc_model_conf_mat = pd.DataFrame(confusion_matrix(train_df_output, dtc_model_predict)); dtc_model_conf_mat\n",
        "dtc_model_perf = classification_report(train_df_output, dtc_model_predict); print(dtc_model_perf)"
      ]
    },
    {
      "cell_type": "code",
      "execution_count": null,
      "id": "366e10e5",
      "metadata": {
        "id": "366e10e5",
        "outputId": "895aa881-2e0b-4b26-bbbb-1aec7c903968"
      },
      "outputs": [
        {
          "data": {
            "text/html": [
              "<div>\n",
              "<style scoped>\n",
              "    .dataframe tbody tr th:only-of-type {\n",
              "        vertical-align: middle;\n",
              "    }\n",
              "\n",
              "    .dataframe tbody tr th {\n",
              "        vertical-align: top;\n",
              "    }\n",
              "\n",
              "    .dataframe thead th {\n",
              "        text-align: right;\n",
              "    }\n",
              "</style>\n",
              "<table border=\"1\" class=\"dataframe\">\n",
              "  <thead>\n",
              "    <tr style=\"text-align: right;\">\n",
              "      <th></th>\n",
              "      <th>0</th>\n",
              "      <th>1</th>\n",
              "    </tr>\n",
              "  </thead>\n",
              "  <tbody>\n",
              "    <tr>\n",
              "      <th>0</th>\n",
              "      <td>481</td>\n",
              "      <td>2</td>\n",
              "    </tr>\n",
              "    <tr>\n",
              "      <th>1</th>\n",
              "      <td>330</td>\n",
              "      <td>6</td>\n",
              "    </tr>\n",
              "  </tbody>\n",
              "</table>\n",
              "</div>"
            ],
            "text/plain": [
              "     0  1\n",
              "0  481  2\n",
              "1  330  6"
            ]
          },
          "execution_count": 59,
          "metadata": {},
          "output_type": "execute_result"
        },
        {
          "name": "stdout",
          "output_type": "stream",
          "text": [
            "              precision    recall  f1-score   support\n",
            "\n",
            "           0       0.59      1.00      0.74       483\n",
            "           1       0.75      0.02      0.03       336\n",
            "\n",
            "    accuracy                           0.59       819\n",
            "   macro avg       0.67      0.51      0.39       819\n",
            "weighted avg       0.66      0.59      0.45       819\n",
            "\n"
          ]
        }
      ],
      "source": [
        "# Decision Tree : Prediction Evaluation (Testing Subset)\n",
        "dtc_predict_conf_mat = pd.DataFrame(confusion_matrix(test_df_output, dtc_predict)); dtc_predict_conf_mat\n",
        "dtc_predict_perf = classification_report(test_df_output, dtc_predict); print(dtc_predict_perf)"
      ]
    },
    {
      "cell_type": "code",
      "execution_count": null,
      "id": "7a0c5e20",
      "metadata": {
        "id": "7a0c5e20",
        "outputId": "7dd736db-7284-4ec4-b452-ff8285f21456"
      },
      "outputs": [
        {
          "data": {
            "image/png": "[encoded data removed]",
            "text/plain": [
              "<Figure size 640x480 with 1 Axes>"
            ]
          },
          "metadata": {},
          "output_type": "display_data"
        }
      ],
      "source": [
        "# Decision Tree : Plot [Training Subset]\n",
        "train_subset_dtc_plot = plot_tree(df_dtc_model, feature_names=df_inputs_names, class_names=df_output_labels, rounded=True, filled=True, fontsize=10)\n",
        "plt.show()"
      ]
    },
    {
      "cell_type": "code",
      "execution_count": null,
      "id": "391fb665",
      "metadata": {
        "id": "391fb665",
        "outputId": "c85fd624-0913-4cec-a825-b8952fe973e4"
      },
      "outputs": [
        {
          "data": {
            "text/plain": [
              "<AxesSubplot:>"
            ]
          },
          "execution_count": 62,
          "metadata": {},
          "output_type": "execute_result"
        },
        {
          "data": {
            "text/plain": [
              "Text(0.5, 23.52222222222222, 'Predicted Label')"
            ]
          },
          "execution_count": 62,
          "metadata": {},
          "output_type": "execute_result"
        },
        {
          "data": {
            "text/plain": [
              "Text(50.722222222222214, 0.5, 'True Label')"
            ]
          },
          "execution_count": 62,
          "metadata": {},
          "output_type": "execute_result"
        },
        {
          "data": {
            "text/plain": [
              "Text(0.5, 1.0, 'Decision Tree : Confusion Matrix')"
            ]
          },
          "execution_count": 62,
          "metadata": {},
          "output_type": "execute_result"
        },
        {
          "data": {
            "image/png": "[encoded data removed]",
            "text/plain": [
              "<Figure size 640x480 with 2 Axes>"
            ]
          },
          "metadata": {},
          "output_type": "display_data"
        }
      ],
      "source": [
        "# Confusion Matrix : Plot [Testing Subset]\n",
        "ax = plt.axes()\n",
        "sns.heatmap(dtc_predict_conf_mat, annot=True, cmap='Paired')\n",
        "ax.set_xlabel('Predicted Label')\n",
        "ax.set_ylabel('True Label')\n",
        "ax.set_title('Decision Tree : Confusion Matrix')\n",
        "plt.show()\n"
      ]
    },
    {
      "cell_type": "markdown",
      "id": "0e2f0c38",
      "metadata": {
        "id": "0e2f0c38"
      },
      "source": [
        "Random Forest"
      ]
    },
    {
      "cell_type": "code",
      "execution_count": null,
      "id": "131cad3d",
      "metadata": {
        "id": "131cad3d"
      },
      "outputs": [],
      "source": [
        "from sklearn.pipeline import make_pipeline\n",
        "from sklearn.ensemble import RandomForestClassifier\n",
        "from sklearn.model_selection import cross_val_score\n",
        "from pathlib import Path\n",
        "import pandas as pd\n",
        "from sklearn.impute import SimpleImputer\n",
        "from sklearn.preprocessing import StandardScaler"
      ]
    },
    {
      "cell_type": "code",
      "execution_count": null,
      "id": "08fa3285",
      "metadata": {
        "id": "08fa3285"
      },
      "outputs": [],
      "source": [
        "pathToFolder= (r\"C:\\Users\\verma\\Downloads\")"
      ]
    },
    {
      "cell_type": "code",
      "execution_count": null,
      "id": "8b39ea9c",
      "metadata": {
        "id": "8b39ea9c"
      },
      "outputs": [],
      "source": [
        "path = Path(pathToFolder) / \"water_potability.csv\""
      ]
    },
    {
      "cell_type": "code",
      "execution_count": null,
      "id": "4461f0e4",
      "metadata": {
        "id": "4461f0e4"
      },
      "outputs": [],
      "source": [
        "df = pd.read_csv(path, true_values = ['yes'], false_values = ['no'])"
      ]
    },
    {
      "cell_type": "code",
      "execution_count": null,
      "id": "f1cae0c1",
      "metadata": {
        "scrolled": false,
        "id": "f1cae0c1",
        "outputId": "b0024541-c63c-4c0b-ba44-c7f0ec3afe98"
      },
      "outputs": [
        {
          "data": {
            "text/plain": [
              "(3276, 11)"
            ]
          },
          "execution_count": 67,
          "metadata": {},
          "output_type": "execute_result"
        },
        {
          "data": {
            "text/html": [
              "<div>\n",
              "<style scoped>\n",
              "    .dataframe tbody tr th:only-of-type {\n",
              "        vertical-align: middle;\n",
              "    }\n",
              "\n",
              "    .dataframe tbody tr th {\n",
              "        vertical-align: top;\n",
              "    }\n",
              "\n",
              "    .dataframe thead th {\n",
              "        text-align: right;\n",
              "    }\n",
              "</style>\n",
              "<table border=\"1\" class=\"dataframe\">\n",
              "  <thead>\n",
              "    <tr style=\"text-align: right;\">\n",
              "      <th></th>\n",
              "      <th>sample</th>\n",
              "      <th>ph</th>\n",
              "      <th>Hardness</th>\n",
              "      <th>Solids</th>\n",
              "      <th>Chloramines</th>\n",
              "      <th>Sulfate</th>\n",
              "      <th>Conductivity</th>\n",
              "      <th>Organic_carbon</th>\n",
              "      <th>Trihalomethanes</th>\n",
              "      <th>Turbidity</th>\n",
              "      <th>Potability</th>\n",
              "    </tr>\n",
              "  </thead>\n",
              "  <tbody>\n",
              "    <tr>\n",
              "      <th>0</th>\n",
              "      <td>1</td>\n",
              "      <td>NaN</td>\n",
              "      <td>204.890456</td>\n",
              "      <td>20791.31898</td>\n",
              "      <td>7.300212</td>\n",
              "      <td>368.516441</td>\n",
              "      <td>564.308654</td>\n",
              "      <td>10.379783</td>\n",
              "      <td>86.990970</td>\n",
              "      <td>2.963135</td>\n",
              "      <td>0</td>\n",
              "    </tr>\n",
              "    <tr>\n",
              "      <th>1</th>\n",
              "      <td>2</td>\n",
              "      <td>3.716080</td>\n",
              "      <td>129.422921</td>\n",
              "      <td>18630.05786</td>\n",
              "      <td>6.635246</td>\n",
              "      <td>NaN</td>\n",
              "      <td>592.885359</td>\n",
              "      <td>15.180013</td>\n",
              "      <td>56.329076</td>\n",
              "      <td>4.500656</td>\n",
              "      <td>0</td>\n",
              "    </tr>\n",
              "    <tr>\n",
              "      <th>2</th>\n",
              "      <td>3</td>\n",
              "      <td>8.099124</td>\n",
              "      <td>224.236259</td>\n",
              "      <td>19909.54173</td>\n",
              "      <td>9.275884</td>\n",
              "      <td>NaN</td>\n",
              "      <td>418.606213</td>\n",
              "      <td>16.868637</td>\n",
              "      <td>66.420093</td>\n",
              "      <td>3.055934</td>\n",
              "      <td>0</td>\n",
              "    </tr>\n",
              "    <tr>\n",
              "      <th>3</th>\n",
              "      <td>4</td>\n",
              "      <td>8.316766</td>\n",
              "      <td>214.373394</td>\n",
              "      <td>22018.41744</td>\n",
              "      <td>8.059332</td>\n",
              "      <td>356.886136</td>\n",
              "      <td>363.266516</td>\n",
              "      <td>18.436525</td>\n",
              "      <td>100.341674</td>\n",
              "      <td>4.628771</td>\n",
              "      <td>0</td>\n",
              "    </tr>\n",
              "    <tr>\n",
              "      <th>4</th>\n",
              "      <td>5</td>\n",
              "      <td>9.092223</td>\n",
              "      <td>181.101509</td>\n",
              "      <td>17978.98634</td>\n",
              "      <td>6.546600</td>\n",
              "      <td>310.135738</td>\n",
              "      <td>398.410813</td>\n",
              "      <td>11.558279</td>\n",
              "      <td>31.997993</td>\n",
              "      <td>4.075075</td>\n",
              "      <td>0</td>\n",
              "    </tr>\n",
              "  </tbody>\n",
              "</table>\n",
              "</div>"
            ],
            "text/plain": [
              "   sample        ph    Hardness       Solids  Chloramines     Sulfate  \\\n",
              "0       1       NaN  204.890456  20791.31898     7.300212  368.516441   \n",
              "1       2  3.716080  129.422921  18630.05786     6.635246         NaN   \n",
              "2       3  8.099124  224.236259  19909.54173     9.275884         NaN   \n",
              "3       4  8.316766  214.373394  22018.41744     8.059332  356.886136   \n",
              "4       5  9.092223  181.101509  17978.98634     6.546600  310.135738   \n",
              "\n",
              "   Conductivity  Organic_carbon  Trihalomethanes  Turbidity  Potability  \n",
              "0    564.308654       10.379783        86.990970   2.963135           0  \n",
              "1    592.885359       15.180013        56.329076   4.500656           0  \n",
              "2    418.606213       16.868637        66.420093   3.055934           0  \n",
              "3    363.266516       18.436525       100.341674   4.628771           0  \n",
              "4    398.410813       11.558279        31.997993   4.075075           0  "
            ]
          },
          "execution_count": 67,
          "metadata": {},
          "output_type": "execute_result"
        }
      ],
      "source": [
        "df.shape\n",
        "df.head()"
      ]
    },
    {
      "cell_type": "code",
      "execution_count": null,
      "id": "ab0be3c5",
      "metadata": {
        "id": "ab0be3c5"
      },
      "outputs": [],
      "source": [
        "imputer = SimpleImputer(strategy='mean')\n",
        "df.fillna(df.mean(), inplace=True)\n",
        "df_imputed = imputer.fit_transform(df)"
      ]
    },
    {
      "cell_type": "code",
      "execution_count": null,
      "id": "52cf9332",
      "metadata": {
        "id": "52cf9332"
      },
      "outputs": [],
      "source": [
        "scaler = StandardScaler()\n",
        "df_scaled = scaler.fit_transform(df_imputed)"
      ]
    },
    {
      "cell_type": "code",
      "execution_count": null,
      "id": "26fbbe68",
      "metadata": {
        "id": "26fbbe68",
        "outputId": "18835f08-da05-449b-ceb0-aa53adcdb1eb"
      },
      "outputs": [
        {
          "data": {
            "text/plain": [
              "sample             0\n",
              "ph                 0\n",
              "Hardness           0\n",
              "Solids             0\n",
              "Chloramines        0\n",
              "Sulfate            0\n",
              "Conductivity       0\n",
              "Organic_carbon     0\n",
              "Trihalomethanes    0\n",
              "Turbidity          0\n",
              "Potability         0\n",
              "dtype: int64"
            ]
          },
          "execution_count": 70,
          "metadata": {},
          "output_type": "execute_result"
        }
      ],
      "source": [
        "df.isnull().sum()"
      ]
    },
    {
      "cell_type": "code",
      "execution_count": null,
      "id": "2af5c018",
      "metadata": {
        "id": "2af5c018"
      },
      "outputs": [],
      "source": [
        "# 1.3 Get target\n",
        "y = df.Potability"
      ]
    },
    {
      "cell_type": "code",
      "execution_count": null,
      "id": "8e9c74b2",
      "metadata": {
        "id": "8e9c74b2"
      },
      "outputs": [],
      "source": [
        "# 1.4 Select predictors\n",
        "X = df.drop(['Potability'], axis=1)"
      ]
    },
    {
      "cell_type": "code",
      "execution_count": null,
      "id": "802fcdde",
      "metadata": {
        "id": "802fcdde"
      },
      "outputs": [],
      "source": [
        "my_pipeline = make_pipeline(RandomForestClassifier(n_estimators=100))"
      ]
    },
    {
      "cell_type": "code",
      "execution_count": null,
      "id": "c39f896f",
      "metadata": {
        "id": "c39f896f",
        "outputId": "e8cc297f-ef4f-46b5-aa81-d32166522463"
      },
      "outputs": [
        {
          "name": "stdout",
          "output_type": "stream",
          "text": [
            "Cross-validation accuracy: 0.620879\n"
          ]
        }
      ],
      "source": [
        "cv_scores = cross_val_score(my_pipeline, X, y,\n",
        "                            cv=5,\n",
        "                            scoring='accuracy')\n",
        "\n",
        "print(\"Cross-validation accuracy: %f\" % cv_scores.mean())"
      ]
    },
    {
      "cell_type": "markdown",
      "id": "6ed48992",
      "metadata": {
        "id": "6ed48992"
      },
      "source": [
        "# Objectives"
      ]
    },
    {
      "cell_type": "markdown",
      "id": "3da1c523",
      "metadata": {
        "id": "3da1c523"
      },
      "source": [
        "To build a model that takes in the various attributes of a water sample and predicts whether the water is potable or not.\n",
        "\n",
        "To evaluate the performance of both decision trees and random forests in classifying water potability accurately.\n",
        "\n",
        "To measure metrics such as accuracy and F1-score to determine how well the models are distinguishing between potable and non-potable water samples.\n",
        "\n",
        "To determine the importance of different features (ph, hardness, solids, turbidity) in predicting water potability."
      ]
    },
    {
      "cell_type": "markdown",
      "id": "ab3cf94b",
      "metadata": {
        "id": "ab3cf94b"
      },
      "source": [
        "# Findings"
      ]
    },
    {
      "cell_type": "markdown",
      "id": "36a3378a",
      "metadata": {
        "id": "36a3378a"
      },
      "source": [
        "According to feature importance, 'Hardness' is the most important variable, then ph, solids and turbidity respectively.\n",
        "\n",
        "The decision tree prediction evaluation accuracy is 59%.\n",
        "\n",
        "The Cross-validation accuracy has come out to be around 0.6208, which suggests that the model is correctly predicting the target variable (or class labels) for approximately 62% of the data in the cross-validation process.\n",
        "\n",
        "Hence, out of the two models Random Forest shows more accuracy in predicting the potability of the water."
      ]
    },
    {
      "cell_type": "markdown",
      "id": "ec025f7d",
      "metadata": {
        "id": "ec025f7d"
      },
      "source": [
        "# Interpretation and Analysis of Decision Tree"
      ]
    },
    {
      "cell_type": "markdown",
      "id": "0e89a8c2",
      "metadata": {
        "id": "0e89a8c2"
      },
      "source": [
        "## Interpretation\n",
        "\n",
        "The root node splits the data based on the pH value. If the pH is less than or equal to 4.72, the left branch is taken. If the pH is greater than 4.72, the right branch is taken.\n",
        "\n",
        "If pH <= 4.72 and Hardness <= 268.11, the algorithm further checks the Solids value.\n",
        "\n",
        "If Solids <= 10659.22, the prediction is class 1 (potable water).\n",
        "If Solids > 10659.22, the prediction is class 0 (non-potable water).\n",
        "If pH <= 4.72 and Hardness > 268.11, the prediction is class 1 (potable water).\n",
        "\n",
        "If pH > 4.72 and Hardness <= 162.07, the algorithm further checks the Hardness value.\n",
        "\n",
        "If Hardness <= 98.41, the prediction is class 1 (potable water).\n",
        "If Hardness > 98.41, the prediction is class 0 (non-potable water).\n",
        "If pH > 4.72 and Hardness > 162.07, the algorithm further checks the pH value.\n",
        "\n",
        "If pH <= 8.27, the prediction is class 0 (non-potable water).\n",
        "If pH > 8.27, the prediction is class 0 (non-potable water).\n",
        "\n",
        "\n",
        "## Analysis\n",
        "The tree structure suggests that pH and Hardness are significant factors in determining water potability. These features are used multiple times as splitting criteria.\n",
        "\n",
        "Solids and pH are also important features but are not as prominently used for splitting, indicating their secondary significance.\n",
        "\n",
        "The tree seems to be leaning towards predicting non-potable water (class 0) more frequently, especially in cases where pH is higher and/or Hardness is greater than a certain threshold.\n",
        "\n",
        "It's clear that pH values below 4.72 are strong indicators of potable water."
      ]
    },
    {
      "cell_type": "code",
      "execution_count": null,
      "id": "a75dde7d",
      "metadata": {
        "id": "a75dde7d"
      },
      "outputs": [],
      "source": []
    }
  ],
  "metadata": {
    "kernelspec": {
      "display_name": "Python 3 (ipykernel)",
      "language": "python",
      "name": "python3"
    },
    "language_info": {
      "codemirror_mode": {
        "name": "ipython",
        "version": 3
      },
      "file_extension": ".py",
      "mimetype": "text/x-python",
      "name": "python",
      "nbconvert_exporter": "python",
      "pygments_lexer": "ipython3",
      "version": "3.9.13"
    },
    "colab": {
      "provenance": [],
      "include_colab_link": true
    }
  },
  "nbformat": 4,
  "nbformat_minor": 5
}